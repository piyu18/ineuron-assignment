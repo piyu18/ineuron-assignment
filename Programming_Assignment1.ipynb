{
  "nbformat": 4,
  "nbformat_minor": 0,
  "metadata": {
    "colab": {
      "name": "Programming_Assignment1.ipynb",
      "provenance": [],
      "collapsed_sections": []
    },
    "kernelspec": {
      "name": "python3",
      "display_name": "Python 3"
    },
    "language_info": {
      "name": "python"
    }
  },
  "cells": [
    {
      "cell_type": "code",
      "execution_count": 1,
      "metadata": {
        "colab": {
          "base_uri": "https://localhost:8080/"
        },
        "id": "JME7CUejRPSS",
        "outputId": "4c934422-03f3-4488-c44f-9cbae7ed1b85"
      },
      "outputs": [
        {
          "output_type": "stream",
          "name": "stdout",
          "text": [
            "Hello Python\n"
          ]
        }
      ],
      "source": [
        "#Write a Python program to print \"Hello Python\"\n",
        "def string(text):\n",
        "  print(text)\n",
        "string('Hello Python')"
      ]
    },
    {
      "cell_type": "code",
      "source": [
        "# Write a Python program to do arithmetical operations addition and division.\n",
        "def addition(*args):\n",
        "  return sum(args)\n",
        "def division(a,b):\n",
        "  return a/b\n",
        "print(addition(2,3,4,5))\n",
        "print(division(1,2))\n",
        "\n"
      ],
      "metadata": {
        "colab": {
          "base_uri": "https://localhost:8080/"
        },
        "id": "uUr7pnnQRsLm",
        "outputId": "38afd7a9-016b-4fd4-d3ba-39d39578b38b"
      },
      "execution_count": 7,
      "outputs": [
        {
          "output_type": "stream",
          "name": "stdout",
          "text": [
            "14\n",
            "0.5\n"
          ]
        }
      ]
    },
    {
      "cell_type": "code",
      "source": [
        "#Write a Python program to find the area of a triangle\n",
        "def area_triangle(a,b,c):\n",
        "  '''\n",
        "    takes three parameters\n",
        "      int/float: a,b,c\n",
        "  '''\n",
        "  s=a+b+c/2\n",
        "  area = (s*(s-a)*(s-b)*(s-c))**0.5\n",
        "  return area\n",
        "\n",
        "area_triangle(5.1,6,7)\n",
        "\n"
      ],
      "metadata": {
        "colab": {
          "base_uri": "https://localhost:8080/"
        },
        "id": "_WI9PnNXTvpo",
        "outputId": "cb07299d-165a-4e57-e2bb-45c7705ac39a"
      },
      "execution_count": 9,
      "outputs": [
        {
          "output_type": "execute_result",
          "data": {
            "text/plain": [
              "95.21256219638246"
            ]
          },
          "metadata": {},
          "execution_count": 9
        }
      ]
    },
    {
      "cell_type": "code",
      "source": [
        "#Write a Python program to swap two variables\n",
        "def swap_var(x,y):\n",
        "  '''\n",
        "    swap two variables\n",
        "  '''\n",
        "  x,y = y,x\n",
        "  return(x,y)\n",
        "\n",
        "swap_var(3,5)"
      ],
      "metadata": {
        "colab": {
          "base_uri": "https://localhost:8080/"
        },
        "id": "SY4r660CVjYI",
        "outputId": "5ed00b62-3bd8-4f6f-8691-d6a4c4736a04"
      },
      "execution_count": 10,
      "outputs": [
        {
          "output_type": "execute_result",
          "data": {
            "text/plain": [
              "(5, 3)"
            ]
          },
          "metadata": {},
          "execution_count": 10
        }
      ]
    },
    {
      "cell_type": "code",
      "source": [
        "#Write a Python program to generate a random number\n",
        "import random\n",
        "def random_no(a,b):\n",
        "  '''\n",
        "    generates random no between two nos\n",
        "      int: a,b\n",
        "  '''\n",
        "  return random.randint(a,b)\n",
        "\n",
        "random_no(2,15)"
      ],
      "metadata": {
        "colab": {
          "base_uri": "https://localhost:8080/"
        },
        "id": "IBTmTMvHWgLA",
        "outputId": "a7051e8d-6da0-40e0-dae5-f6d9765ff060"
      },
      "execution_count": 16,
      "outputs": [
        {
          "output_type": "execute_result",
          "data": {
            "text/plain": [
              "11"
            ]
          },
          "metadata": {},
          "execution_count": 16
        }
      ]
    },
    {
      "cell_type": "code",
      "source": [
        ""
      ],
      "metadata": {
        "id": "Jh5UpB4mXkK7"
      },
      "execution_count": null,
      "outputs": []
    }
  ]
}