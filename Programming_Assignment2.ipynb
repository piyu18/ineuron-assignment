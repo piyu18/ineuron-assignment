{
  "nbformat": 4,
  "nbformat_minor": 0,
  "metadata": {
    "colab": {
      "name": "Programming_Assignment2.ipynb",
      "provenance": [],
      "authorship_tag": "ABX9TyM0XZJ5hIy51Gj8ofggPIeW",
      "include_colab_link": true
    },
    "kernelspec": {
      "name": "python3",
      "display_name": "Python 3"
    },
    "language_info": {
      "name": "python"
    }
  },
  "cells": [
    {
      "cell_type": "markdown",
      "metadata": {
        "id": "view-in-github",
        "colab_type": "text"
      },
      "source": [
        "<a href=\"https://colab.research.google.com/github/piyu18/ineuron-assignment/blob/main/Programming_Assignment2.ipynb\" target=\"_parent\"><img src=\"https://colab.research.google.com/assets/colab-badge.svg\" alt=\"Open In Colab\"/></a>"
      ]
    },
    {
      "cell_type": "code",
      "execution_count": 21,
      "metadata": {
        "id": "Dj_JV7XH980y"
      },
      "outputs": [],
      "source": [
        "#Write a Python program to convert kilometers to miles\n",
        "def km_miles(a):\n",
        "  try:\n",
        "    conversion_factor = 0.62137119\n",
        "    return('%0.2f km is equal to %0.2f miles' %(a,a*conversion_factor))\n",
        "  except Exception as e:\n",
        "    print(e)"
      ]
    },
    {
      "cell_type": "code",
      "source": [
        "km_miles(2)"
      ],
      "metadata": {
        "colab": {
          "base_uri": "https://localhost:8080/",
          "height": 36
        },
        "id": "3q9xjBjGFkLG",
        "outputId": "f6d3509a-d136-449f-984b-4deec3dd65da"
      },
      "execution_count": 25,
      "outputs": [
        {
          "output_type": "execute_result",
          "data": {
            "text/plain": [
              "'2.00 km is equal to 1.24 miles'"
            ],
            "application/vnd.google.colaboratory.intrinsic+json": {
              "type": "string"
            }
          },
          "metadata": {},
          "execution_count": 25
        }
      ]
    },
    {
      "cell_type": "code",
      "source": [
        "#Write a Python program to convert Celsius to Fahrenheit\n",
        "def cel_fahrenheit(C):\n",
        "  try:\n",
        "    conversion_factor = (C*9/5)+32\n",
        "    return('%0.2f°C is equal to %0.2f°F' %(C,conversion_factor))\n",
        "  except Exception as e:\n",
        "    print(e)\n",
        "cel_fahrenheit(26)\n"
      ],
      "metadata": {
        "colab": {
          "base_uri": "https://localhost:8080/",
          "height": 36
        },
        "id": "GEHnqSZj9959",
        "outputId": "a955500b-8007-47b9-faac-1fd09b7457d5"
      },
      "execution_count": 30,
      "outputs": [
        {
          "output_type": "execute_result",
          "data": {
            "text/plain": [
              "'26.00°C is equal to 78.80°F'"
            ],
            "application/vnd.google.colaboratory.intrinsic+json": {
              "type": "string"
            }
          },
          "metadata": {},
          "execution_count": 30
        }
      ]
    },
    {
      "cell_type": "code",
      "source": [
        "#Write a Python program to display calendar\n",
        "import calendar\n",
        "yy = 2022\n",
        "mm = 8\n",
        " \n",
        "# display the calendar\n",
        "print(calendar.month(yy, mm))\n",
        "#print(calendar.calendar(yy))\n"
      ],
      "metadata": {
        "colab": {
          "base_uri": "https://localhost:8080/"
        },
        "id": "SPAj0Exv-cZx",
        "outputId": "31938345-f5e8-4b9a-dbb4-ea0a15104aba"
      },
      "execution_count": 32,
      "outputs": [
        {
          "output_type": "stream",
          "name": "stdout",
          "text": [
            "    August 2022\n",
            "Mo Tu We Th Fr Sa Su\n",
            " 1  2  3  4  5  6  7\n",
            " 8  9 10 11 12 13 14\n",
            "15 16 17 18 19 20 21\n",
            "22 23 24 25 26 27 28\n",
            "29 30 31\n",
            "\n"
          ]
        }
      ]
    },
    {
      "cell_type": "code",
      "source": [
        "#Write a Python program to solve quadratic equation?\n",
        "import cmath\n",
        "def quad_equ(a,b,c):\n",
        "  try:\n",
        "    # calculate the discriminant\n",
        "    d = (b**2) - (4*a*c)\n",
        "    X1 = (-b+cmath.sqrt(d))/(2*a)\n",
        "    X2 = (-b-cmath.sqrt(d))/(2*a)\n",
        "    return('The solution are {0} and {1}'.format(X1,X2))\n",
        "  except Exception as e:\n",
        "    print(e)\n",
        "\n",
        "quad_equ(2,3,5)\n"
      ],
      "metadata": {
        "colab": {
          "base_uri": "https://localhost:8080/",
          "height": 36
        },
        "id": "G1C_8w0B-m_N",
        "outputId": "50d2da62-f48a-4ded-f302-5c8c6b072756"
      },
      "execution_count": 33,
      "outputs": [
        {
          "output_type": "execute_result",
          "data": {
            "text/plain": [
              "'The solution are (-0.75+1.3919410907075054j) and (-0.75-1.3919410907075054j)'"
            ],
            "application/vnd.google.colaboratory.intrinsic+json": {
              "type": "string"
            }
          },
          "metadata": {},
          "execution_count": 33
        }
      ]
    },
    {
      "cell_type": "code",
      "source": [
        "#Write a Python program to swap two variables without temp variable\n",
        "def swap_var(X,Y):\n",
        "  X,Y = Y,X\n",
        "  return ('The value of X is {0} and Y is {1}'.format(X,Y))\n",
        "swap_var(3,4)"
      ],
      "metadata": {
        "colab": {
          "base_uri": "https://localhost:8080/",
          "height": 36
        },
        "id": "Wqmm7Kz9Bi1C",
        "outputId": "bb8434fe-caee-400a-8d80-1c583bc6ed48"
      },
      "execution_count": 39,
      "outputs": [
        {
          "output_type": "execute_result",
          "data": {
            "text/plain": [
              "'The value of X is 4 and Y is 3'"
            ],
            "application/vnd.google.colaboratory.intrinsic+json": {
              "type": "string"
            }
          },
          "metadata": {},
          "execution_count": 39
        }
      ]
    },
    {
      "cell_type": "code",
      "source": [
        ""
      ],
      "metadata": {
        "id": "OIt3os1pMMfq"
      },
      "execution_count": null,
      "outputs": []
    }
  ]
}